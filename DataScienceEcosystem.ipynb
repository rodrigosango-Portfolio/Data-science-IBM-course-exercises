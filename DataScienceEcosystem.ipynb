{
 "cells": [
  {
   "cell_type": "markdown",
   "id": "9eb834cf",
   "metadata": {},
   "source": [
    "# Data Science Tools and Ecosystem\n",
    "    "
   ]
  },
  {
   "cell_type": "markdown",
   "id": "d10a5481",
   "metadata": {},
   "source": [
    "In this notebook, an overview of the Data Science Tools and Ecosystem is provided."
   ]
  },
  {
   "cell_type": "markdown",
   "id": "1e99e5b9",
   "metadata": {},
   "source": [
    "**Objectives:**\n",
    "* Enumerate commonly used languages for data science\n",
    "* Practice basic Python and Markdown syntaxis\n",
    "* Become familiar and grasp the potential of integrated development enviroments"
   ]
  },
  {
   "cell_type": "markdown",
   "id": "931fb342",
   "metadata": {},
   "source": [
    "Among the languages commonly utilized by Data Scientists are:\n",
    "1. Python\n",
    "2. R\n",
    "3. SQL\n",
    "4. Java\n",
    "5. Julia\n",
    "6. Scala"
   ]
  },
  {
   "cell_type": "markdown",
   "id": "48150f25",
   "metadata": {},
   "source": [
    "\"Among the frequently utilized libraries in the toolkit of Data Scientists are:\"\n",
    "1. NumPy\n",
    "2. Pandas\n",
    "3. Matplotlib\n",
    "4. Seaborn\n",
    "5. Scikit-learn\n",
    "6. TensorFlow\n",
    "7. PyTorch"
   ]
  },
  {
   "cell_type": "markdown",
   "id": "382341a1",
   "metadata": {},
   "source": [
    "| Data Science Tools      | \n",
    "| :---:        |  \n",
    "| Jupyter Notebooks      | \n",
    "| RStudio   | \n",
    "| Spyder  | "
   ]
  },
  {
   "cell_type": "markdown",
   "id": "2b5934e7",
   "metadata": {},
   "source": [
    "### Here are some instances of assessing arithmetic expressions in Python."
   ]
  },
  {
   "cell_type": "markdown",
   "id": "91a7b734",
   "metadata": {},
   "source": [
    "This is a straightforward arithmetic expression involving the multiplication and addition of integers."
   ]
  },
  {
   "cell_type": "code",
   "execution_count": 1,
   "id": "4d0860d7",
   "metadata": {},
   "outputs": [
    {
     "data": {
      "text/plain": [
       "17"
      ]
     },
     "execution_count": 1,
     "metadata": {},
     "output_type": "execute_result"
    }
   ],
   "source": [
    "(3*4)+5"
   ]
  },
  {
   "cell_type": "markdown",
   "id": "a12f0667",
   "metadata": {},
   "source": [
    " This will convert 200 minutes to hours by diving by 60"
   ]
  },
  {
   "cell_type": "code",
   "execution_count": 2,
   "id": "4cf70df7",
   "metadata": {},
   "outputs": [
    {
     "data": {
      "text/plain": [
       "3.3333333333333335"
      ]
     },
     "execution_count": 2,
     "metadata": {},
     "output_type": "execute_result"
    }
   ],
   "source": [
    "200/60"
   ]
  },
  {
   "cell_type": "markdown",
   "id": "20d19e3f",
   "metadata": {},
   "source": [
    "## Author \n",
    "Rodrigo Sango"
   ]
  },
  {
   "cell_type": "code",
   "execution_count": null,
   "id": "04b3a83d",
   "metadata": {},
   "outputs": [],
   "source": []
  }
 ],
 "metadata": {
  "kernelspec": {
   "display_name": "Python 3 (ipykernel)",
   "language": "python",
   "name": "python3"
  },
  "language_info": {
   "codemirror_mode": {
    "name": "ipython",
    "version": 3
   },
   "file_extension": ".py",
   "mimetype": "text/x-python",
   "name": "python",
   "nbconvert_exporter": "python",
   "pygments_lexer": "ipython3",
   "version": "3.9.7"
  }
 },
 "nbformat": 4,
 "nbformat_minor": 5
}
